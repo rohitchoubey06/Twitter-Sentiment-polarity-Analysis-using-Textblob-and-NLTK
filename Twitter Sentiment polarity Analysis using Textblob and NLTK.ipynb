{
 "cells": [
  {
   "cell_type": "code",
   "execution_count": 6,
   "id": "2b9e53c6",
   "metadata": {},
   "outputs": [],
   "source": [
    "import json\n",
    "with open('tweets.json') as jfile:\n",
    "     d= json.load(jfile)\n",
    "    "
   ]
  },
  {
   "cell_type": "code",
   "execution_count": 7,
   "id": "0097f277",
   "metadata": {},
   "outputs": [
    {
     "data": {
      "text/plain": [
       "'C:\\\\Users\\\\rohit\\\\Downloads'"
      ]
     },
     "execution_count": 7,
     "metadata": {},
     "output_type": "execute_result"
    }
   ],
   "source": [
    "import matplotlib.pyplot as plt\n",
    "import seaborn as sns\n",
    "import os \n",
    "os.getcwd()"
   ]
  },
  {
   "cell_type": "code",
   "execution_count": 8,
   "id": "cd2e4d71",
   "metadata": {},
   "outputs": [],
   "source": [
    "os.chdir('C:\\\\Users\\\\rohit\\\\Downloads')"
   ]
  },
  {
   "cell_type": "code",
   "execution_count": 9,
   "id": "f36f4225",
   "metadata": {},
   "outputs": [
    {
     "data": {
      "text/plain": [
       "dict"
      ]
     },
     "execution_count": 9,
     "metadata": {},
     "output_type": "execute_result"
    }
   ],
   "source": [
    "type(d)"
   ]
  },
  {
   "cell_type": "code",
   "execution_count": 10,
   "id": "55f46a86",
   "metadata": {},
   "outputs": [
    {
     "data": {
      "text/plain": [
       "{'tweet_author': 'Hematopoiesis News',\n",
       " 'tweet_text': '⚕️ Scientists conducted a Phase II study of acalabrutinib in patients with relapsed/refractory #CLL who were ibrutinib-intolerant, and found an overall response rate of 73%. \\nhttps://t.co/eJ6m4QpC5P https://t.co/kuZz6ZO47r'}"
      ]
     },
     "execution_count": 10,
     "metadata": {},
     "output_type": "execute_result"
    }
   ],
   "source": [
    "d['1374140386071961602']"
   ]
  },
  {
   "cell_type": "markdown",
   "id": "4f7231cc",
   "metadata": {},
   "source": [
    "### Converting to Pandas DataFrame"
   ]
  },
  {
   "cell_type": "markdown",
   "id": "601432ca",
   "metadata": {},
   "source": [
    "To convert the data from dictionary to pandas Data frame I'm seperating the data in the form of keys including tweet_id and values which includes tweet_author and tweet_text and creating a seperate Data frame for them"
   ]
  },
  {
   "cell_type": "code",
   "execution_count": 11,
   "id": "b9637c5d",
   "metadata": {},
   "outputs": [],
   "source": [
    "a = d.keys()"
   ]
  },
  {
   "cell_type": "code",
   "execution_count": 12,
   "id": "36519462",
   "metadata": {},
   "outputs": [],
   "source": [
    "import pandas as pd"
   ]
  },
  {
   "cell_type": "code",
   "execution_count": 13,
   "id": "11c8f730",
   "metadata": {},
   "outputs": [],
   "source": [
    "df1 = pd.DataFrame(a, columns=['tweet_id']).reset_index()"
   ]
  },
  {
   "cell_type": "code",
   "execution_count": 14,
   "id": "5d205e15",
   "metadata": {},
   "outputs": [
    {
     "data": {
      "text/html": [
       "<div>\n",
       "<style scoped>\n",
       "    .dataframe tbody tr th:only-of-type {\n",
       "        vertical-align: middle;\n",
       "    }\n",
       "\n",
       "    .dataframe tbody tr th {\n",
       "        vertical-align: top;\n",
       "    }\n",
       "\n",
       "    .dataframe thead th {\n",
       "        text-align: right;\n",
       "    }\n",
       "</style>\n",
       "<table border=\"1\" class=\"dataframe\">\n",
       "  <thead>\n",
       "    <tr style=\"text-align: right;\">\n",
       "      <th></th>\n",
       "      <th>index</th>\n",
       "      <th>tweet_id</th>\n",
       "    </tr>\n",
       "  </thead>\n",
       "  <tbody>\n",
       "    <tr>\n",
       "      <th>0</th>\n",
       "      <td>0</td>\n",
       "      <td>1374140386071961602</td>\n",
       "    </tr>\n",
       "    <tr>\n",
       "      <th>1</th>\n",
       "      <td>1</td>\n",
       "      <td>1374032432173842437</td>\n",
       "    </tr>\n",
       "    <tr>\n",
       "      <th>2</th>\n",
       "      <td>2</td>\n",
       "      <td>1373902876553048065</td>\n",
       "    </tr>\n",
       "    <tr>\n",
       "      <th>3</th>\n",
       "      <td>3</td>\n",
       "      <td>1373656782367813635</td>\n",
       "    </tr>\n",
       "    <tr>\n",
       "      <th>4</th>\n",
       "      <td>4</td>\n",
       "      <td>1372941634334232586</td>\n",
       "    </tr>\n",
       "    <tr>\n",
       "      <th>...</th>\n",
       "      <td>...</td>\n",
       "      <td>...</td>\n",
       "    </tr>\n",
       "    <tr>\n",
       "      <th>43342</th>\n",
       "      <td>43342</td>\n",
       "      <td>551103473643945985</td>\n",
       "    </tr>\n",
       "    <tr>\n",
       "      <th>43343</th>\n",
       "      <td>43343</td>\n",
       "      <td>551102786675290112</td>\n",
       "    </tr>\n",
       "    <tr>\n",
       "      <th>43344</th>\n",
       "      <td>43344</td>\n",
       "      <td>550969541186953217</td>\n",
       "    </tr>\n",
       "    <tr>\n",
       "      <th>43345</th>\n",
       "      <td>43345</td>\n",
       "      <td>550941480525635584</td>\n",
       "    </tr>\n",
       "    <tr>\n",
       "      <th>43346</th>\n",
       "      <td>43346</td>\n",
       "      <td>550579446537678849</td>\n",
       "    </tr>\n",
       "  </tbody>\n",
       "</table>\n",
       "<p>43347 rows × 2 columns</p>\n",
       "</div>"
      ],
      "text/plain": [
       "       index             tweet_id\n",
       "0          0  1374140386071961602\n",
       "1          1  1374032432173842437\n",
       "2          2  1373902876553048065\n",
       "3          3  1373656782367813635\n",
       "4          4  1372941634334232586\n",
       "...      ...                  ...\n",
       "43342  43342   551103473643945985\n",
       "43343  43343   551102786675290112\n",
       "43344  43344   550969541186953217\n",
       "43345  43345   550941480525635584\n",
       "43346  43346   550579446537678849\n",
       "\n",
       "[43347 rows x 2 columns]"
      ]
     },
     "execution_count": 14,
     "metadata": {},
     "output_type": "execute_result"
    }
   ],
   "source": [
    "df1"
   ]
  },
  {
   "cell_type": "code",
   "execution_count": 15,
   "id": "a8b2d46c",
   "metadata": {},
   "outputs": [],
   "source": [
    "b = d.values()"
   ]
  },
  {
   "cell_type": "code",
   "execution_count": 16,
   "id": "cb91751f",
   "metadata": {},
   "outputs": [],
   "source": [
    "df2 = pd.DataFrame(b).reset_index()"
   ]
  },
  {
   "cell_type": "code",
   "execution_count": 17,
   "id": "bd7b8066",
   "metadata": {},
   "outputs": [
    {
     "data": {
      "text/html": [
       "<div>\n",
       "<style scoped>\n",
       "    .dataframe tbody tr th:only-of-type {\n",
       "        vertical-align: middle;\n",
       "    }\n",
       "\n",
       "    .dataframe tbody tr th {\n",
       "        vertical-align: top;\n",
       "    }\n",
       "\n",
       "    .dataframe thead th {\n",
       "        text-align: right;\n",
       "    }\n",
       "</style>\n",
       "<table border=\"1\" class=\"dataframe\">\n",
       "  <thead>\n",
       "    <tr style=\"text-align: right;\">\n",
       "      <th></th>\n",
       "      <th>index</th>\n",
       "      <th>tweet_author</th>\n",
       "      <th>tweet_text</th>\n",
       "    </tr>\n",
       "  </thead>\n",
       "  <tbody>\n",
       "    <tr>\n",
       "      <th>0</th>\n",
       "      <td>0</td>\n",
       "      <td>Hematopoiesis News</td>\n",
       "      <td>⚕️ Scientists conducted a Phase II study of ac...</td>\n",
       "    </tr>\n",
       "    <tr>\n",
       "      <th>1</th>\n",
       "      <td>1</td>\n",
       "      <td>Michael Wang, MD</td>\n",
       "      <td>This phase 2 Acalabrutinib-Venetoclax (AV) tri...</td>\n",
       "    </tr>\n",
       "    <tr>\n",
       "      <th>2</th>\n",
       "      <td>2</td>\n",
       "      <td>1stOncology</td>\n",
       "      <td>#NICE backs #AstraZenecas #Calquence for #CLL ...</td>\n",
       "    </tr>\n",
       "    <tr>\n",
       "      <th>3</th>\n",
       "      <td>3</td>\n",
       "      <td>Toby Eyre</td>\n",
       "      <td>#acalabrutinib is a valuable option in pts int...</td>\n",
       "    </tr>\n",
       "    <tr>\n",
       "      <th>4</th>\n",
       "      <td>4</td>\n",
       "      <td>Lymphoma Hub</td>\n",
       "      <td>NICE has recommended the use of acalabrutinib ...</td>\n",
       "    </tr>\n",
       "    <tr>\n",
       "      <th>...</th>\n",
       "      <td>...</td>\n",
       "      <td>...</td>\n",
       "      <td>...</td>\n",
       "    </tr>\n",
       "    <tr>\n",
       "      <th>43342</th>\n",
       "      <td>43342</td>\n",
       "      <td>Joy is a Lifestyle</td>\n",
       "      <td>Hanging out with Friends! :) #FF #CLL #Happine...</td>\n",
       "    </tr>\n",
       "    <tr>\n",
       "      <th>43343</th>\n",
       "      <td>43343</td>\n",
       "      <td>𝓒𝓻𝓲𝔃𝔃𝔂 𝓟𝓮𝓻𝓻𝔂🌹</td>\n",
       "      <td>Hanging out with Friends! :) #FF #CLL #Happine...</td>\n",
       "    </tr>\n",
       "    <tr>\n",
       "      <th>43344</th>\n",
       "      <td>43344</td>\n",
       "      <td>IQWiG</td>\n",
       "      <td>Zusatznutzen von #Idelalisib ist weder für #CL...</td>\n",
       "    </tr>\n",
       "    <tr>\n",
       "      <th>43345</th>\n",
       "      <td>43345</td>\n",
       "      <td>Medibooks</td>\n",
       "      <td>#Hematología PTK2 EXPRESSION AND IMMUNOCHEMOTH...</td>\n",
       "    </tr>\n",
       "    <tr>\n",
       "      <th>43346</th>\n",
       "      <td>43346</td>\n",
       "      <td>Medibooks</td>\n",
       "      <td>#Hematología MUTATIONS IN TLR/MYD88 PATHWAY ID...</td>\n",
       "    </tr>\n",
       "  </tbody>\n",
       "</table>\n",
       "<p>43347 rows × 3 columns</p>\n",
       "</div>"
      ],
      "text/plain": [
       "       index        tweet_author  \\\n",
       "0          0  Hematopoiesis News   \n",
       "1          1    Michael Wang, MD   \n",
       "2          2         1stOncology   \n",
       "3          3           Toby Eyre   \n",
       "4          4        Lymphoma Hub   \n",
       "...      ...                 ...   \n",
       "43342  43342  Joy is a Lifestyle   \n",
       "43343  43343       𝓒𝓻𝓲𝔃𝔃𝔂 𝓟𝓮𝓻𝓻𝔂🌹   \n",
       "43344  43344               IQWiG   \n",
       "43345  43345           Medibooks   \n",
       "43346  43346           Medibooks   \n",
       "\n",
       "                                              tweet_text  \n",
       "0      ⚕️ Scientists conducted a Phase II study of ac...  \n",
       "1      This phase 2 Acalabrutinib-Venetoclax (AV) tri...  \n",
       "2      #NICE backs #AstraZenecas #Calquence for #CLL ...  \n",
       "3      #acalabrutinib is a valuable option in pts int...  \n",
       "4      NICE has recommended the use of acalabrutinib ...  \n",
       "...                                                  ...  \n",
       "43342  Hanging out with Friends! :) #FF #CLL #Happine...  \n",
       "43343  Hanging out with Friends! :) #FF #CLL #Happine...  \n",
       "43344  Zusatznutzen von #Idelalisib ist weder für #CL...  \n",
       "43345  #Hematología PTK2 EXPRESSION AND IMMUNOCHEMOTH...  \n",
       "43346  #Hematología MUTATIONS IN TLR/MYD88 PATHWAY ID...  \n",
       "\n",
       "[43347 rows x 3 columns]"
      ]
     },
     "execution_count": 17,
     "metadata": {},
     "output_type": "execute_result"
    }
   ],
   "source": [
    "df2"
   ]
  },
  {
   "cell_type": "code",
   "execution_count": 18,
   "id": "c2cfdb1c",
   "metadata": {},
   "outputs": [],
   "source": [
    "df3 = pd.merge(df1,df2,how='outer',on='index')"
   ]
  },
  {
   "cell_type": "code",
   "execution_count": 19,
   "id": "9337b779",
   "metadata": {},
   "outputs": [
    {
     "data": {
      "text/html": [
       "<div>\n",
       "<style scoped>\n",
       "    .dataframe tbody tr th:only-of-type {\n",
       "        vertical-align: middle;\n",
       "    }\n",
       "\n",
       "    .dataframe tbody tr th {\n",
       "        vertical-align: top;\n",
       "    }\n",
       "\n",
       "    .dataframe thead th {\n",
       "        text-align: right;\n",
       "    }\n",
       "</style>\n",
       "<table border=\"1\" class=\"dataframe\">\n",
       "  <thead>\n",
       "    <tr style=\"text-align: right;\">\n",
       "      <th></th>\n",
       "      <th>index</th>\n",
       "      <th>tweet_id</th>\n",
       "      <th>tweet_author</th>\n",
       "      <th>tweet_text</th>\n",
       "    </tr>\n",
       "  </thead>\n",
       "  <tbody>\n",
       "    <tr>\n",
       "      <th>0</th>\n",
       "      <td>0</td>\n",
       "      <td>1374140386071961602</td>\n",
       "      <td>Hematopoiesis News</td>\n",
       "      <td>⚕️ Scientists conducted a Phase II study of ac...</td>\n",
       "    </tr>\n",
       "    <tr>\n",
       "      <th>1</th>\n",
       "      <td>1</td>\n",
       "      <td>1374032432173842437</td>\n",
       "      <td>Michael Wang, MD</td>\n",
       "      <td>This phase 2 Acalabrutinib-Venetoclax (AV) tri...</td>\n",
       "    </tr>\n",
       "    <tr>\n",
       "      <th>2</th>\n",
       "      <td>2</td>\n",
       "      <td>1373902876553048065</td>\n",
       "      <td>1stOncology</td>\n",
       "      <td>#NICE backs #AstraZenecas #Calquence for #CLL ...</td>\n",
       "    </tr>\n",
       "    <tr>\n",
       "      <th>3</th>\n",
       "      <td>3</td>\n",
       "      <td>1373656782367813635</td>\n",
       "      <td>Toby Eyre</td>\n",
       "      <td>#acalabrutinib is a valuable option in pts int...</td>\n",
       "    </tr>\n",
       "    <tr>\n",
       "      <th>4</th>\n",
       "      <td>4</td>\n",
       "      <td>1372941634334232586</td>\n",
       "      <td>Lymphoma Hub</td>\n",
       "      <td>NICE has recommended the use of acalabrutinib ...</td>\n",
       "    </tr>\n",
       "    <tr>\n",
       "      <th>...</th>\n",
       "      <td>...</td>\n",
       "      <td>...</td>\n",
       "      <td>...</td>\n",
       "      <td>...</td>\n",
       "    </tr>\n",
       "    <tr>\n",
       "      <th>43342</th>\n",
       "      <td>43342</td>\n",
       "      <td>551103473643945985</td>\n",
       "      <td>Joy is a Lifestyle</td>\n",
       "      <td>Hanging out with Friends! :) #FF #CLL #Happine...</td>\n",
       "    </tr>\n",
       "    <tr>\n",
       "      <th>43343</th>\n",
       "      <td>43343</td>\n",
       "      <td>551102786675290112</td>\n",
       "      <td>𝓒𝓻𝓲𝔃𝔃𝔂 𝓟𝓮𝓻𝓻𝔂🌹</td>\n",
       "      <td>Hanging out with Friends! :) #FF #CLL #Happine...</td>\n",
       "    </tr>\n",
       "    <tr>\n",
       "      <th>43344</th>\n",
       "      <td>43344</td>\n",
       "      <td>550969541186953217</td>\n",
       "      <td>IQWiG</td>\n",
       "      <td>Zusatznutzen von #Idelalisib ist weder für #CL...</td>\n",
       "    </tr>\n",
       "    <tr>\n",
       "      <th>43345</th>\n",
       "      <td>43345</td>\n",
       "      <td>550941480525635584</td>\n",
       "      <td>Medibooks</td>\n",
       "      <td>#Hematología PTK2 EXPRESSION AND IMMUNOCHEMOTH...</td>\n",
       "    </tr>\n",
       "    <tr>\n",
       "      <th>43346</th>\n",
       "      <td>43346</td>\n",
       "      <td>550579446537678849</td>\n",
       "      <td>Medibooks</td>\n",
       "      <td>#Hematología MUTATIONS IN TLR/MYD88 PATHWAY ID...</td>\n",
       "    </tr>\n",
       "  </tbody>\n",
       "</table>\n",
       "<p>43347 rows × 4 columns</p>\n",
       "</div>"
      ],
      "text/plain": [
       "       index             tweet_id        tweet_author  \\\n",
       "0          0  1374140386071961602  Hematopoiesis News   \n",
       "1          1  1374032432173842437    Michael Wang, MD   \n",
       "2          2  1373902876553048065         1stOncology   \n",
       "3          3  1373656782367813635           Toby Eyre   \n",
       "4          4  1372941634334232586        Lymphoma Hub   \n",
       "...      ...                  ...                 ...   \n",
       "43342  43342   551103473643945985  Joy is a Lifestyle   \n",
       "43343  43343   551102786675290112       𝓒𝓻𝓲𝔃𝔃𝔂 𝓟𝓮𝓻𝓻𝔂🌹   \n",
       "43344  43344   550969541186953217               IQWiG   \n",
       "43345  43345   550941480525635584           Medibooks   \n",
       "43346  43346   550579446537678849           Medibooks   \n",
       "\n",
       "                                              tweet_text  \n",
       "0      ⚕️ Scientists conducted a Phase II study of ac...  \n",
       "1      This phase 2 Acalabrutinib-Venetoclax (AV) tri...  \n",
       "2      #NICE backs #AstraZenecas #Calquence for #CLL ...  \n",
       "3      #acalabrutinib is a valuable option in pts int...  \n",
       "4      NICE has recommended the use of acalabrutinib ...  \n",
       "...                                                  ...  \n",
       "43342  Hanging out with Friends! :) #FF #CLL #Happine...  \n",
       "43343  Hanging out with Friends! :) #FF #CLL #Happine...  \n",
       "43344  Zusatznutzen von #Idelalisib ist weder für #CL...  \n",
       "43345  #Hematología PTK2 EXPRESSION AND IMMUNOCHEMOTH...  \n",
       "43346  #Hematología MUTATIONS IN TLR/MYD88 PATHWAY ID...  \n",
       "\n",
       "[43347 rows x 4 columns]"
      ]
     },
     "execution_count": 19,
     "metadata": {},
     "output_type": "execute_result"
    }
   ],
   "source": [
    "df3"
   ]
  },
  {
   "cell_type": "code",
   "execution_count": 20,
   "id": "9d982c5d",
   "metadata": {},
   "outputs": [
    {
     "data": {
      "text/plain": [
       "index                                                           0\n",
       "tweet_id                                      1374140386071961602\n",
       "tweet_author                                   Hematopoiesis News\n",
       "tweet_text      ⚕️ Scientists conducted a Phase II study of ac...\n",
       "Name: 0, dtype: object"
      ]
     },
     "execution_count": 20,
     "metadata": {},
     "output_type": "execute_result"
    }
   ],
   "source": [
    "df3.iloc[0]"
   ]
  },
  {
   "cell_type": "code",
   "execution_count": 21,
   "id": "b32d8355",
   "metadata": {},
   "outputs": [
    {
     "data": {
      "text/html": [
       "<div>\n",
       "<style scoped>\n",
       "    .dataframe tbody tr th:only-of-type {\n",
       "        vertical-align: middle;\n",
       "    }\n",
       "\n",
       "    .dataframe tbody tr th {\n",
       "        vertical-align: top;\n",
       "    }\n",
       "\n",
       "    .dataframe thead th {\n",
       "        text-align: right;\n",
       "    }\n",
       "</style>\n",
       "<table border=\"1\" class=\"dataframe\">\n",
       "  <thead>\n",
       "    <tr style=\"text-align: right;\">\n",
       "      <th></th>\n",
       "      <th>index</th>\n",
       "      <th>tweet_id</th>\n",
       "      <th>tweet_author</th>\n",
       "      <th>tweet_text</th>\n",
       "    </tr>\n",
       "  </thead>\n",
       "  <tbody>\n",
       "    <tr>\n",
       "      <th>0</th>\n",
       "      <td>0</td>\n",
       "      <td>1374140386071961602</td>\n",
       "      <td>Hematopoiesis News</td>\n",
       "      <td>⚕️ Scientists conducted a Phase II study of ac...</td>\n",
       "    </tr>\n",
       "    <tr>\n",
       "      <th>1</th>\n",
       "      <td>1</td>\n",
       "      <td>1374032432173842437</td>\n",
       "      <td>Michael Wang, MD</td>\n",
       "      <td>This phase 2 Acalabrutinib-Venetoclax (AV) tri...</td>\n",
       "    </tr>\n",
       "    <tr>\n",
       "      <th>2</th>\n",
       "      <td>2</td>\n",
       "      <td>1373902876553048065</td>\n",
       "      <td>1stOncology</td>\n",
       "      <td>#NICE backs #AstraZenecas #Calquence for #CLL ...</td>\n",
       "    </tr>\n",
       "    <tr>\n",
       "      <th>3</th>\n",
       "      <td>3</td>\n",
       "      <td>1373656782367813635</td>\n",
       "      <td>Toby Eyre</td>\n",
       "      <td>#acalabrutinib is a valuable option in pts int...</td>\n",
       "    </tr>\n",
       "    <tr>\n",
       "      <th>4</th>\n",
       "      <td>4</td>\n",
       "      <td>1372941634334232586</td>\n",
       "      <td>Lymphoma Hub</td>\n",
       "      <td>NICE has recommended the use of acalabrutinib ...</td>\n",
       "    </tr>\n",
       "    <tr>\n",
       "      <th>...</th>\n",
       "      <td>...</td>\n",
       "      <td>...</td>\n",
       "      <td>...</td>\n",
       "      <td>...</td>\n",
       "    </tr>\n",
       "    <tr>\n",
       "      <th>43342</th>\n",
       "      <td>43342</td>\n",
       "      <td>551103473643945985</td>\n",
       "      <td>Joy is a Lifestyle</td>\n",
       "      <td>Hanging out with Friends! :) #FF #CLL #Happine...</td>\n",
       "    </tr>\n",
       "    <tr>\n",
       "      <th>43343</th>\n",
       "      <td>43343</td>\n",
       "      <td>551102786675290112</td>\n",
       "      <td>𝓒𝓻𝓲𝔃𝔃𝔂 𝓟𝓮𝓻𝓻𝔂🌹</td>\n",
       "      <td>Hanging out with Friends! :) #FF #CLL #Happine...</td>\n",
       "    </tr>\n",
       "    <tr>\n",
       "      <th>43344</th>\n",
       "      <td>43344</td>\n",
       "      <td>550969541186953217</td>\n",
       "      <td>IQWiG</td>\n",
       "      <td>Zusatznutzen von #Idelalisib ist weder für #CL...</td>\n",
       "    </tr>\n",
       "    <tr>\n",
       "      <th>43345</th>\n",
       "      <td>43345</td>\n",
       "      <td>550941480525635584</td>\n",
       "      <td>Medibooks</td>\n",
       "      <td>#Hematología PTK2 EXPRESSION AND IMMUNOCHEMOTH...</td>\n",
       "    </tr>\n",
       "    <tr>\n",
       "      <th>43346</th>\n",
       "      <td>43346</td>\n",
       "      <td>550579446537678849</td>\n",
       "      <td>Medibooks</td>\n",
       "      <td>#Hematología MUTATIONS IN TLR/MYD88 PATHWAY ID...</td>\n",
       "    </tr>\n",
       "  </tbody>\n",
       "</table>\n",
       "<p>43347 rows × 4 columns</p>\n",
       "</div>"
      ],
      "text/plain": [
       "       index             tweet_id        tweet_author  \\\n",
       "0          0  1374140386071961602  Hematopoiesis News   \n",
       "1          1  1374032432173842437    Michael Wang, MD   \n",
       "2          2  1373902876553048065         1stOncology   \n",
       "3          3  1373656782367813635           Toby Eyre   \n",
       "4          4  1372941634334232586        Lymphoma Hub   \n",
       "...      ...                  ...                 ...   \n",
       "43342  43342   551103473643945985  Joy is a Lifestyle   \n",
       "43343  43343   551102786675290112       𝓒𝓻𝓲𝔃𝔃𝔂 𝓟𝓮𝓻𝓻𝔂🌹   \n",
       "43344  43344   550969541186953217               IQWiG   \n",
       "43345  43345   550941480525635584           Medibooks   \n",
       "43346  43346   550579446537678849           Medibooks   \n",
       "\n",
       "                                              tweet_text  \n",
       "0      ⚕️ Scientists conducted a Phase II study of ac...  \n",
       "1      This phase 2 Acalabrutinib-Venetoclax (AV) tri...  \n",
       "2      #NICE backs #AstraZenecas #Calquence for #CLL ...  \n",
       "3      #acalabrutinib is a valuable option in pts int...  \n",
       "4      NICE has recommended the use of acalabrutinib ...  \n",
       "...                                                  ...  \n",
       "43342  Hanging out with Friends! :) #FF #CLL #Happine...  \n",
       "43343  Hanging out with Friends! :) #FF #CLL #Happine...  \n",
       "43344  Zusatznutzen von #Idelalisib ist weder für #CL...  \n",
       "43345  #Hematología PTK2 EXPRESSION AND IMMUNOCHEMOTH...  \n",
       "43346  #Hematología MUTATIONS IN TLR/MYD88 PATHWAY ID...  \n",
       "\n",
       "[43347 rows x 4 columns]"
      ]
     },
     "execution_count": 21,
     "metadata": {},
     "output_type": "execute_result"
    }
   ],
   "source": [
    "df3.drop_duplicates()"
   ]
  },
  {
   "cell_type": "code",
   "execution_count": 22,
   "id": "fc25a187",
   "metadata": {},
   "outputs": [
    {
     "data": {
      "text/plain": [
       "index            int64\n",
       "tweet_id        object\n",
       "tweet_author    object\n",
       "tweet_text      object\n",
       "dtype: object"
      ]
     },
     "execution_count": 22,
     "metadata": {},
     "output_type": "execute_result"
    }
   ],
   "source": [
    "df3.dtypes"
   ]
  },
  {
   "cell_type": "markdown",
   "id": "1d0a8694",
   "metadata": {},
   "source": [
    "#### Cleaning the column tweet_text as it contains some unneccesary punctuations"
   ]
  },
  {
   "cell_type": "code",
   "execution_count": 23,
   "id": "6d429767",
   "metadata": {},
   "outputs": [],
   "source": [
    "import re"
   ]
  },
  {
   "cell_type": "code",
   "execution_count": 24,
   "id": "8db77244",
   "metadata": {},
   "outputs": [],
   "source": [
    "def cleantweet(text):\n",
    "    text = re.sub(r'[^\\w\\s]', '',text)\n",
    "    return text"
   ]
  },
  {
   "cell_type": "code",
   "execution_count": 25,
   "id": "f74495fd",
   "metadata": {},
   "outputs": [],
   "source": [
    "df3['tweet_text'] = df3['tweet_text'].apply(cleantweet)"
   ]
  },
  {
   "cell_type": "code",
   "execution_count": 26,
   "id": "0f522d8c",
   "metadata": {},
   "outputs": [
    {
     "data": {
      "text/html": [
       "<div>\n",
       "<style scoped>\n",
       "    .dataframe tbody tr th:only-of-type {\n",
       "        vertical-align: middle;\n",
       "    }\n",
       "\n",
       "    .dataframe tbody tr th {\n",
       "        vertical-align: top;\n",
       "    }\n",
       "\n",
       "    .dataframe thead th {\n",
       "        text-align: right;\n",
       "    }\n",
       "</style>\n",
       "<table border=\"1\" class=\"dataframe\">\n",
       "  <thead>\n",
       "    <tr style=\"text-align: right;\">\n",
       "      <th></th>\n",
       "      <th>index</th>\n",
       "      <th>tweet_id</th>\n",
       "      <th>tweet_author</th>\n",
       "      <th>tweet_text</th>\n",
       "    </tr>\n",
       "  </thead>\n",
       "  <tbody>\n",
       "    <tr>\n",
       "      <th>0</th>\n",
       "      <td>0</td>\n",
       "      <td>1374140386071961602</td>\n",
       "      <td>Hematopoiesis News</td>\n",
       "      <td>Scientists conducted a Phase II study of acal...</td>\n",
       "    </tr>\n",
       "    <tr>\n",
       "      <th>1</th>\n",
       "      <td>1</td>\n",
       "      <td>1374032432173842437</td>\n",
       "      <td>Michael Wang, MD</td>\n",
       "      <td>This phase 2 AcalabrutinibVenetoclax AV trial ...</td>\n",
       "    </tr>\n",
       "    <tr>\n",
       "      <th>2</th>\n",
       "      <td>2</td>\n",
       "      <td>1373902876553048065</td>\n",
       "      <td>1stOncology</td>\n",
       "      <td>NICE backs AstraZenecas Calquence for CLL http...</td>\n",
       "    </tr>\n",
       "    <tr>\n",
       "      <th>3</th>\n",
       "      <td>3</td>\n",
       "      <td>1373656782367813635</td>\n",
       "      <td>Toby Eyre</td>\n",
       "      <td>acalabrutinib is a valuable option in pts into...</td>\n",
       "    </tr>\n",
       "    <tr>\n",
       "      <th>4</th>\n",
       "      <td>4</td>\n",
       "      <td>1372941634334232586</td>\n",
       "      <td>Lymphoma Hub</td>\n",
       "      <td>NICE has recommended the use of acalabrutinib ...</td>\n",
       "    </tr>\n",
       "  </tbody>\n",
       "</table>\n",
       "</div>"
      ],
      "text/plain": [
       "   index             tweet_id        tweet_author  \\\n",
       "0      0  1374140386071961602  Hematopoiesis News   \n",
       "1      1  1374032432173842437    Michael Wang, MD   \n",
       "2      2  1373902876553048065         1stOncology   \n",
       "3      3  1373656782367813635           Toby Eyre   \n",
       "4      4  1372941634334232586        Lymphoma Hub   \n",
       "\n",
       "                                          tweet_text  \n",
       "0   Scientists conducted a Phase II study of acal...  \n",
       "1  This phase 2 AcalabrutinibVenetoclax AV trial ...  \n",
       "2  NICE backs AstraZenecas Calquence for CLL http...  \n",
       "3  acalabrutinib is a valuable option in pts into...  \n",
       "4  NICE has recommended the use of acalabrutinib ...  "
      ]
     },
     "execution_count": 26,
     "metadata": {},
     "output_type": "execute_result"
    }
   ],
   "source": [
    "df3.head()"
   ]
  },
  {
   "cell_type": "code",
   "execution_count": 27,
   "id": "7e8123ca",
   "metadata": {},
   "outputs": [],
   "source": [
    "df3['tweet_author'] = df3['tweet_author'].apply(cleantweet)"
   ]
  },
  {
   "cell_type": "code",
   "execution_count": 28,
   "id": "e19e638e",
   "metadata": {},
   "outputs": [
    {
     "data": {
      "text/html": [
       "<div>\n",
       "<style scoped>\n",
       "    .dataframe tbody tr th:only-of-type {\n",
       "        vertical-align: middle;\n",
       "    }\n",
       "\n",
       "    .dataframe tbody tr th {\n",
       "        vertical-align: top;\n",
       "    }\n",
       "\n",
       "    .dataframe thead th {\n",
       "        text-align: right;\n",
       "    }\n",
       "</style>\n",
       "<table border=\"1\" class=\"dataframe\">\n",
       "  <thead>\n",
       "    <tr style=\"text-align: right;\">\n",
       "      <th></th>\n",
       "      <th>index</th>\n",
       "      <th>tweet_id</th>\n",
       "      <th>tweet_author</th>\n",
       "      <th>tweet_text</th>\n",
       "    </tr>\n",
       "  </thead>\n",
       "  <tbody>\n",
       "    <tr>\n",
       "      <th>0</th>\n",
       "      <td>0</td>\n",
       "      <td>1374140386071961602</td>\n",
       "      <td>Hematopoiesis News</td>\n",
       "      <td>Scientists conducted a Phase II study of acal...</td>\n",
       "    </tr>\n",
       "    <tr>\n",
       "      <th>1</th>\n",
       "      <td>1</td>\n",
       "      <td>1374032432173842437</td>\n",
       "      <td>Michael Wang MD</td>\n",
       "      <td>This phase 2 AcalabrutinibVenetoclax AV trial ...</td>\n",
       "    </tr>\n",
       "    <tr>\n",
       "      <th>2</th>\n",
       "      <td>2</td>\n",
       "      <td>1373902876553048065</td>\n",
       "      <td>1stOncology</td>\n",
       "      <td>NICE backs AstraZenecas Calquence for CLL http...</td>\n",
       "    </tr>\n",
       "    <tr>\n",
       "      <th>3</th>\n",
       "      <td>3</td>\n",
       "      <td>1373656782367813635</td>\n",
       "      <td>Toby Eyre</td>\n",
       "      <td>acalabrutinib is a valuable option in pts into...</td>\n",
       "    </tr>\n",
       "    <tr>\n",
       "      <th>4</th>\n",
       "      <td>4</td>\n",
       "      <td>1372941634334232586</td>\n",
       "      <td>Lymphoma Hub</td>\n",
       "      <td>NICE has recommended the use of acalabrutinib ...</td>\n",
       "    </tr>\n",
       "    <tr>\n",
       "      <th>...</th>\n",
       "      <td>...</td>\n",
       "      <td>...</td>\n",
       "      <td>...</td>\n",
       "      <td>...</td>\n",
       "    </tr>\n",
       "    <tr>\n",
       "      <th>43342</th>\n",
       "      <td>43342</td>\n",
       "      <td>551103473643945985</td>\n",
       "      <td>Joy is a Lifestyle</td>\n",
       "      <td>Hanging out with Friends  FF CLL Happiness htt...</td>\n",
       "    </tr>\n",
       "    <tr>\n",
       "      <th>43343</th>\n",
       "      <td>43343</td>\n",
       "      <td>551102786675290112</td>\n",
       "      <td>𝓒𝓻𝓲𝔃𝔃𝔂 𝓟𝓮𝓻𝓻𝔂</td>\n",
       "      <td>Hanging out with Friends  FF CLL Happiness htt...</td>\n",
       "    </tr>\n",
       "    <tr>\n",
       "      <th>43344</th>\n",
       "      <td>43344</td>\n",
       "      <td>550969541186953217</td>\n",
       "      <td>IQWiG</td>\n",
       "      <td>Zusatznutzen von Idelalisib ist weder für CLL ...</td>\n",
       "    </tr>\n",
       "    <tr>\n",
       "      <th>43345</th>\n",
       "      <td>43345</td>\n",
       "      <td>550941480525635584</td>\n",
       "      <td>Medibooks</td>\n",
       "      <td>Hematología PTK2 EXPRESSION AND IMMUNOCHEMOTHE...</td>\n",
       "    </tr>\n",
       "    <tr>\n",
       "      <th>43346</th>\n",
       "      <td>43346</td>\n",
       "      <td>550579446537678849</td>\n",
       "      <td>Medibooks</td>\n",
       "      <td>Hematología MUTATIONS IN TLRMYD88 PATHWAY IDEN...</td>\n",
       "    </tr>\n",
       "  </tbody>\n",
       "</table>\n",
       "<p>43347 rows × 4 columns</p>\n",
       "</div>"
      ],
      "text/plain": [
       "       index             tweet_id        tweet_author  \\\n",
       "0          0  1374140386071961602  Hematopoiesis News   \n",
       "1          1  1374032432173842437     Michael Wang MD   \n",
       "2          2  1373902876553048065         1stOncology   \n",
       "3          3  1373656782367813635           Toby Eyre   \n",
       "4          4  1372941634334232586        Lymphoma Hub   \n",
       "...      ...                  ...                 ...   \n",
       "43342  43342   551103473643945985  Joy is a Lifestyle   \n",
       "43343  43343   551102786675290112        𝓒𝓻𝓲𝔃𝔃𝔂 𝓟𝓮𝓻𝓻𝔂   \n",
       "43344  43344   550969541186953217               IQWiG   \n",
       "43345  43345   550941480525635584           Medibooks   \n",
       "43346  43346   550579446537678849           Medibooks   \n",
       "\n",
       "                                              tweet_text  \n",
       "0       Scientists conducted a Phase II study of acal...  \n",
       "1      This phase 2 AcalabrutinibVenetoclax AV trial ...  \n",
       "2      NICE backs AstraZenecas Calquence for CLL http...  \n",
       "3      acalabrutinib is a valuable option in pts into...  \n",
       "4      NICE has recommended the use of acalabrutinib ...  \n",
       "...                                                  ...  \n",
       "43342  Hanging out with Friends  FF CLL Happiness htt...  \n",
       "43343  Hanging out with Friends  FF CLL Happiness htt...  \n",
       "43344  Zusatznutzen von Idelalisib ist weder für CLL ...  \n",
       "43345  Hematología PTK2 EXPRESSION AND IMMUNOCHEMOTHE...  \n",
       "43346  Hematología MUTATIONS IN TLRMYD88 PATHWAY IDEN...  \n",
       "\n",
       "[43347 rows x 4 columns]"
      ]
     },
     "execution_count": 28,
     "metadata": {},
     "output_type": "execute_result"
    }
   ],
   "source": [
    "df3"
   ]
  },
  {
   "cell_type": "code",
   "execution_count": 29,
   "id": "61308d89",
   "metadata": {},
   "outputs": [
    {
     "data": {
      "text/html": [
       "<div>\n",
       "<style scoped>\n",
       "    .dataframe tbody tr th:only-of-type {\n",
       "        vertical-align: middle;\n",
       "    }\n",
       "\n",
       "    .dataframe tbody tr th {\n",
       "        vertical-align: top;\n",
       "    }\n",
       "\n",
       "    .dataframe thead th {\n",
       "        text-align: right;\n",
       "    }\n",
       "</style>\n",
       "<table border=\"1\" class=\"dataframe\">\n",
       "  <thead>\n",
       "    <tr style=\"text-align: right;\">\n",
       "      <th></th>\n",
       "      <th>index</th>\n",
       "      <th>tweet_id</th>\n",
       "      <th>tweet_author</th>\n",
       "      <th>tweet_text</th>\n",
       "    </tr>\n",
       "  </thead>\n",
       "  <tbody>\n",
       "    <tr>\n",
       "      <th>0</th>\n",
       "      <td>0</td>\n",
       "      <td>1374140386071961602</td>\n",
       "      <td>Hematopoiesis News</td>\n",
       "      <td>Scientists conducted a Phase II study of acal...</td>\n",
       "    </tr>\n",
       "    <tr>\n",
       "      <th>1</th>\n",
       "      <td>1</td>\n",
       "      <td>1374032432173842437</td>\n",
       "      <td>Michael Wang MD</td>\n",
       "      <td>This phase 2 AcalabrutinibVenetoclax AV trial ...</td>\n",
       "    </tr>\n",
       "    <tr>\n",
       "      <th>2</th>\n",
       "      <td>2</td>\n",
       "      <td>1373902876553048065</td>\n",
       "      <td>1stOncology</td>\n",
       "      <td>NICE backs AstraZenecas Calquence for CLL http...</td>\n",
       "    </tr>\n",
       "    <tr>\n",
       "      <th>3</th>\n",
       "      <td>3</td>\n",
       "      <td>1373656782367813635</td>\n",
       "      <td>Toby Eyre</td>\n",
       "      <td>acalabrutinib is a valuable option in pts into...</td>\n",
       "    </tr>\n",
       "    <tr>\n",
       "      <th>4</th>\n",
       "      <td>4</td>\n",
       "      <td>1372941634334232586</td>\n",
       "      <td>Lymphoma Hub</td>\n",
       "      <td>NICE has recommended the use of acalabrutinib ...</td>\n",
       "    </tr>\n",
       "    <tr>\n",
       "      <th>...</th>\n",
       "      <td>...</td>\n",
       "      <td>...</td>\n",
       "      <td>...</td>\n",
       "      <td>...</td>\n",
       "    </tr>\n",
       "    <tr>\n",
       "      <th>43342</th>\n",
       "      <td>43342</td>\n",
       "      <td>551103473643945985</td>\n",
       "      <td>Joy is a Lifestyle</td>\n",
       "      <td>Hanging out with Friends  FF CLL Happiness htt...</td>\n",
       "    </tr>\n",
       "    <tr>\n",
       "      <th>43343</th>\n",
       "      <td>43343</td>\n",
       "      <td>551102786675290112</td>\n",
       "      <td>𝓒𝓻𝓲𝔃𝔃𝔂 𝓟𝓮𝓻𝓻𝔂</td>\n",
       "      <td>Hanging out with Friends  FF CLL Happiness htt...</td>\n",
       "    </tr>\n",
       "    <tr>\n",
       "      <th>43344</th>\n",
       "      <td>43344</td>\n",
       "      <td>550969541186953217</td>\n",
       "      <td>IQWiG</td>\n",
       "      <td>Zusatznutzen von Idelalisib ist weder für CLL ...</td>\n",
       "    </tr>\n",
       "    <tr>\n",
       "      <th>43345</th>\n",
       "      <td>43345</td>\n",
       "      <td>550941480525635584</td>\n",
       "      <td>Medibooks</td>\n",
       "      <td>Hematología PTK2 EXPRESSION AND IMMUNOCHEMOTHE...</td>\n",
       "    </tr>\n",
       "    <tr>\n",
       "      <th>43346</th>\n",
       "      <td>43346</td>\n",
       "      <td>550579446537678849</td>\n",
       "      <td>Medibooks</td>\n",
       "      <td>Hematología MUTATIONS IN TLRMYD88 PATHWAY IDEN...</td>\n",
       "    </tr>\n",
       "  </tbody>\n",
       "</table>\n",
       "<p>43347 rows × 4 columns</p>\n",
       "</div>"
      ],
      "text/plain": [
       "       index             tweet_id        tweet_author  \\\n",
       "0          0  1374140386071961602  Hematopoiesis News   \n",
       "1          1  1374032432173842437     Michael Wang MD   \n",
       "2          2  1373902876553048065         1stOncology   \n",
       "3          3  1373656782367813635           Toby Eyre   \n",
       "4          4  1372941634334232586        Lymphoma Hub   \n",
       "...      ...                  ...                 ...   \n",
       "43342  43342   551103473643945985  Joy is a Lifestyle   \n",
       "43343  43343   551102786675290112        𝓒𝓻𝓲𝔃𝔃𝔂 𝓟𝓮𝓻𝓻𝔂   \n",
       "43344  43344   550969541186953217               IQWiG   \n",
       "43345  43345   550941480525635584           Medibooks   \n",
       "43346  43346   550579446537678849           Medibooks   \n",
       "\n",
       "                                              tweet_text  \n",
       "0       Scientists conducted a Phase II study of acal...  \n",
       "1      This phase 2 AcalabrutinibVenetoclax AV trial ...  \n",
       "2      NICE backs AstraZenecas Calquence for CLL http...  \n",
       "3      acalabrutinib is a valuable option in pts into...  \n",
       "4      NICE has recommended the use of acalabrutinib ...  \n",
       "...                                                  ...  \n",
       "43342  Hanging out with Friends  FF CLL Happiness htt...  \n",
       "43343  Hanging out with Friends  FF CLL Happiness htt...  \n",
       "43344  Zusatznutzen von Idelalisib ist weder für CLL ...  \n",
       "43345  Hematología PTK2 EXPRESSION AND IMMUNOCHEMOTHE...  \n",
       "43346  Hematología MUTATIONS IN TLRMYD88 PATHWAY IDEN...  \n",
       "\n",
       "[43347 rows x 4 columns]"
      ]
     },
     "execution_count": 29,
     "metadata": {},
     "output_type": "execute_result"
    }
   ],
   "source": [
    "df3"
   ]
  },
  {
   "cell_type": "markdown",
   "id": "37169812",
   "metadata": {},
   "source": [
    "### Importing TextBlob"
   ]
  },
  {
   "cell_type": "code",
   "execution_count": 30,
   "id": "ac606348",
   "metadata": {},
   "outputs": [],
   "source": [
    "from textblob import TextBlob"
   ]
  },
  {
   "cell_type": "code",
   "execution_count": 31,
   "id": "717d6eed",
   "metadata": {},
   "outputs": [
    {
     "name": "stdout",
     "output_type": "stream",
     "text": [
      "Requirement already satisfied: textblob in c:\\users\\rohit\\anaconda3\\lib\\site-packages (0.17.1)\n",
      "Requirement already satisfied: nltk>=3.1 in c:\\users\\rohit\\anaconda3\\lib\\site-packages (from textblob) (3.6.5)\n",
      "Requirement already satisfied: click in c:\\users\\rohit\\anaconda3\\lib\\site-packages (from nltk>=3.1->textblob) (8.0.3)\n",
      "Requirement already satisfied: joblib in c:\\users\\rohit\\anaconda3\\lib\\site-packages (from nltk>=3.1->textblob) (1.1.0)\n",
      "Requirement already satisfied: regex>=2021.8.3 in c:\\users\\rohit\\anaconda3\\lib\\site-packages (from nltk>=3.1->textblob) (2021.8.3)\n",
      "Requirement already satisfied: tqdm in c:\\users\\rohit\\anaconda3\\lib\\site-packages (from nltk>=3.1->textblob) (4.62.3)\n",
      "Requirement already satisfied: colorama in c:\\users\\rohit\\anaconda3\\lib\\site-packages (from click->nltk>=3.1->textblob) (0.4.4)\n"
     ]
    }
   ],
   "source": [
    "!pip install textblob"
   ]
  },
  {
   "cell_type": "markdown",
   "id": "d4638fad",
   "metadata": {},
   "source": [
    "##### Creating functions and seperate columns for subjectivity and polarity analysis"
   ]
  },
  {
   "cell_type": "code",
   "execution_count": 32,
   "id": "972af54d",
   "metadata": {},
   "outputs": [],
   "source": [
    "def gettextsubjectivity(text):\n",
    "    return TextBlob(text).sentiment.subjectivity"
   ]
  },
  {
   "cell_type": "code",
   "execution_count": 33,
   "id": "75301b9a",
   "metadata": {},
   "outputs": [],
   "source": [
    "def gettextploarity(text):\n",
    "    return TextBlob(text).sentiment.polarity"
   ]
  },
  {
   "cell_type": "code",
   "execution_count": 36,
   "id": "cc76e8b3",
   "metadata": {},
   "outputs": [],
   "source": [
    "df3['Subjectivity'] = df3['tweet_text'].apply(gettextsubjectivity)\n",
    "df3['Polarity'] = df3['tweet_text'].apply(gettextploarity)"
   ]
  },
  {
   "cell_type": "code",
   "execution_count": 37,
   "id": "728e9ca4",
   "metadata": {},
   "outputs": [
    {
     "data": {
      "text/html": [
       "<div>\n",
       "<style scoped>\n",
       "    .dataframe tbody tr th:only-of-type {\n",
       "        vertical-align: middle;\n",
       "    }\n",
       "\n",
       "    .dataframe tbody tr th {\n",
       "        vertical-align: top;\n",
       "    }\n",
       "\n",
       "    .dataframe thead th {\n",
       "        text-align: right;\n",
       "    }\n",
       "</style>\n",
       "<table border=\"1\" class=\"dataframe\">\n",
       "  <thead>\n",
       "    <tr style=\"text-align: right;\">\n",
       "      <th></th>\n",
       "      <th>index</th>\n",
       "      <th>tweet_id</th>\n",
       "      <th>tweet_author</th>\n",
       "      <th>tweet_text</th>\n",
       "      <th>Subjectivity</th>\n",
       "      <th>Polarity</th>\n",
       "    </tr>\n",
       "  </thead>\n",
       "  <tbody>\n",
       "    <tr>\n",
       "      <th>0</th>\n",
       "      <td>0</td>\n",
       "      <td>1374140386071961602</td>\n",
       "      <td>Hematopoiesis News</td>\n",
       "      <td>Scientists conducted a Phase II study of acal...</td>\n",
       "      <td>0.00</td>\n",
       "      <td>0.00</td>\n",
       "    </tr>\n",
       "    <tr>\n",
       "      <th>1</th>\n",
       "      <td>1</td>\n",
       "      <td>1374032432173842437</td>\n",
       "      <td>Michael Wang MD</td>\n",
       "      <td>This phase 2 AcalabrutinibVenetoclax AV trial ...</td>\n",
       "      <td>0.00</td>\n",
       "      <td>0.00</td>\n",
       "    </tr>\n",
       "    <tr>\n",
       "      <th>2</th>\n",
       "      <td>2</td>\n",
       "      <td>1373902876553048065</td>\n",
       "      <td>1stOncology</td>\n",
       "      <td>NICE backs AstraZenecas Calquence for CLL http...</td>\n",
       "      <td>1.00</td>\n",
       "      <td>0.60</td>\n",
       "    </tr>\n",
       "    <tr>\n",
       "      <th>3</th>\n",
       "      <td>3</td>\n",
       "      <td>1373656782367813635</td>\n",
       "      <td>Toby Eyre</td>\n",
       "      <td>acalabrutinib is a valuable option in pts into...</td>\n",
       "      <td>0.40</td>\n",
       "      <td>0.05</td>\n",
       "    </tr>\n",
       "    <tr>\n",
       "      <th>4</th>\n",
       "      <td>4</td>\n",
       "      <td>1372941634334232586</td>\n",
       "      <td>Lymphoma Hub</td>\n",
       "      <td>NICE has recommended the use of acalabrutinib ...</td>\n",
       "      <td>0.75</td>\n",
       "      <td>0.55</td>\n",
       "    </tr>\n",
       "  </tbody>\n",
       "</table>\n",
       "</div>"
      ],
      "text/plain": [
       "   index             tweet_id        tweet_author  \\\n",
       "0      0  1374140386071961602  Hematopoiesis News   \n",
       "1      1  1374032432173842437     Michael Wang MD   \n",
       "2      2  1373902876553048065         1stOncology   \n",
       "3      3  1373656782367813635           Toby Eyre   \n",
       "4      4  1372941634334232586        Lymphoma Hub   \n",
       "\n",
       "                                          tweet_text  Subjectivity  Polarity  \n",
       "0   Scientists conducted a Phase II study of acal...          0.00      0.00  \n",
       "1  This phase 2 AcalabrutinibVenetoclax AV trial ...          0.00      0.00  \n",
       "2  NICE backs AstraZenecas Calquence for CLL http...          1.00      0.60  \n",
       "3  acalabrutinib is a valuable option in pts into...          0.40      0.05  \n",
       "4  NICE has recommended the use of acalabrutinib ...          0.75      0.55  "
      ]
     },
     "execution_count": 37,
     "metadata": {},
     "output_type": "execute_result"
    }
   ],
   "source": [
    "df3.head()"
   ]
  },
  {
   "cell_type": "markdown",
   "id": "7f7a1b85",
   "metadata": {},
   "source": [
    "### Performing Text analysis"
   ]
  },
  {
   "cell_type": "code",
   "execution_count": 38,
   "id": "01adf548",
   "metadata": {},
   "outputs": [],
   "source": [
    "def textanalysis(text):\n",
    "    if text<0:\n",
    "        return 'Negative'\n",
    "    elif text==0:\n",
    "        return 'Neutral'\n",
    "    else:\n",
    "        return 'Positive'\n",
    "    "
   ]
  },
  {
   "cell_type": "markdown",
   "id": "9e4e13f6",
   "metadata": {},
   "source": [
    "### Defining new column as overall polarity which will have data as positive, negative and neutral on the basis of polarity value"
   ]
  },
  {
   "cell_type": "code",
   "execution_count": 39,
   "id": "76190aac",
   "metadata": {},
   "outputs": [],
   "source": [
    "df3['overall_polarity'] = df3.Polarity.apply(textanalysis)"
   ]
  },
  {
   "cell_type": "code",
   "execution_count": 40,
   "id": "e5868d53",
   "metadata": {},
   "outputs": [
    {
     "data": {
      "text/html": [
       "<div>\n",
       "<style scoped>\n",
       "    .dataframe tbody tr th:only-of-type {\n",
       "        vertical-align: middle;\n",
       "    }\n",
       "\n",
       "    .dataframe tbody tr th {\n",
       "        vertical-align: top;\n",
       "    }\n",
       "\n",
       "    .dataframe thead th {\n",
       "        text-align: right;\n",
       "    }\n",
       "</style>\n",
       "<table border=\"1\" class=\"dataframe\">\n",
       "  <thead>\n",
       "    <tr style=\"text-align: right;\">\n",
       "      <th></th>\n",
       "      <th>index</th>\n",
       "      <th>tweet_id</th>\n",
       "      <th>tweet_author</th>\n",
       "      <th>tweet_text</th>\n",
       "      <th>Subjectivity</th>\n",
       "      <th>Polarity</th>\n",
       "      <th>overall_polarity</th>\n",
       "    </tr>\n",
       "  </thead>\n",
       "  <tbody>\n",
       "    <tr>\n",
       "      <th>0</th>\n",
       "      <td>0</td>\n",
       "      <td>1374140386071961602</td>\n",
       "      <td>Hematopoiesis News</td>\n",
       "      <td>Scientists conducted a Phase II study of acal...</td>\n",
       "      <td>0.00</td>\n",
       "      <td>0.00</td>\n",
       "      <td>Neutral</td>\n",
       "    </tr>\n",
       "    <tr>\n",
       "      <th>1</th>\n",
       "      <td>1</td>\n",
       "      <td>1374032432173842437</td>\n",
       "      <td>Michael Wang MD</td>\n",
       "      <td>This phase 2 AcalabrutinibVenetoclax AV trial ...</td>\n",
       "      <td>0.00</td>\n",
       "      <td>0.00</td>\n",
       "      <td>Neutral</td>\n",
       "    </tr>\n",
       "    <tr>\n",
       "      <th>2</th>\n",
       "      <td>2</td>\n",
       "      <td>1373902876553048065</td>\n",
       "      <td>1stOncology</td>\n",
       "      <td>NICE backs AstraZenecas Calquence for CLL http...</td>\n",
       "      <td>1.00</td>\n",
       "      <td>0.60</td>\n",
       "      <td>Positive</td>\n",
       "    </tr>\n",
       "    <tr>\n",
       "      <th>3</th>\n",
       "      <td>3</td>\n",
       "      <td>1373656782367813635</td>\n",
       "      <td>Toby Eyre</td>\n",
       "      <td>acalabrutinib is a valuable option in pts into...</td>\n",
       "      <td>0.40</td>\n",
       "      <td>0.05</td>\n",
       "      <td>Positive</td>\n",
       "    </tr>\n",
       "    <tr>\n",
       "      <th>4</th>\n",
       "      <td>4</td>\n",
       "      <td>1372941634334232586</td>\n",
       "      <td>Lymphoma Hub</td>\n",
       "      <td>NICE has recommended the use of acalabrutinib ...</td>\n",
       "      <td>0.75</td>\n",
       "      <td>0.55</td>\n",
       "      <td>Positive</td>\n",
       "    </tr>\n",
       "  </tbody>\n",
       "</table>\n",
       "</div>"
      ],
      "text/plain": [
       "   index             tweet_id        tweet_author  \\\n",
       "0      0  1374140386071961602  Hematopoiesis News   \n",
       "1      1  1374032432173842437     Michael Wang MD   \n",
       "2      2  1373902876553048065         1stOncology   \n",
       "3      3  1373656782367813635           Toby Eyre   \n",
       "4      4  1372941634334232586        Lymphoma Hub   \n",
       "\n",
       "                                          tweet_text  Subjectivity  Polarity  \\\n",
       "0   Scientists conducted a Phase II study of acal...          0.00      0.00   \n",
       "1  This phase 2 AcalabrutinibVenetoclax AV trial ...          0.00      0.00   \n",
       "2  NICE backs AstraZenecas Calquence for CLL http...          1.00      0.60   \n",
       "3  acalabrutinib is a valuable option in pts into...          0.40      0.05   \n",
       "4  NICE has recommended the use of acalabrutinib ...          0.75      0.55   \n",
       "\n",
       "  overall_polarity  \n",
       "0          Neutral  \n",
       "1          Neutral  \n",
       "2         Positive  \n",
       "3         Positive  \n",
       "4         Positive  "
      ]
     },
     "execution_count": 40,
     "metadata": {},
     "output_type": "execute_result"
    }
   ],
   "source": [
    "df3.head(5)"
   ]
  },
  {
   "cell_type": "code",
   "execution_count": null,
   "id": "deb5ee40",
   "metadata": {},
   "outputs": [],
   "source": [
    "neg = df3[df3['overall_polarity']=='Negative'].shape[0]/df3.shape[0]*100"
   ]
  },
  {
   "cell_type": "code",
   "execution_count": null,
   "id": "828a8e13",
   "metadata": {},
   "outputs": [],
   "source": [
    "pos = df3[df3['overall_polarity']=='Positive'].shape[0]/df3.shape[0]*100"
   ]
  },
  {
   "cell_type": "code",
   "execution_count": null,
   "id": "9a8b8635",
   "metadata": {},
   "outputs": [],
   "source": [
    "neutral = df3[df3['overall_polarity']=='Neutral'].shape[0]/df3.shape[0]*100"
   ]
  },
  {
   "cell_type": "code",
   "execution_count": null,
   "id": "1e69dffb",
   "metadata": {},
   "outputs": [],
   "source": [
    "print(neg+pos+neutral)"
   ]
  },
  {
   "cell_type": "code",
   "execution_count": null,
   "id": "4454a945",
   "metadata": {},
   "outputs": [],
   "source": [
    "sizes = [neg,pos,neutral]"
   ]
  },
  {
   "cell_type": "code",
   "execution_count": null,
   "id": "2be3d3f4",
   "metadata": {},
   "outputs": [],
   "source": [
    "df3.overall_polarity.value_counts(normalize=True)"
   ]
  },
  {
   "cell_type": "code",
   "execution_count": null,
   "id": "95c524d7",
   "metadata": {},
   "outputs": [],
   "source": [
    "df3.overall_polarity.value_counts(normalize=True).plot.pie()\n",
    "sns.set(rc = {'figure.figsize':(10,10)})\n",
    "plt.legend()\n",
    "plt.title('Overall_polarity')\n",
    "plt.show()"
   ]
  },
  {
   "cell_type": "code",
   "execution_count": null,
   "id": "c5b4ec9d",
   "metadata": {},
   "outputs": [],
   "source": [
    "df3.tweet_text.iloc[11]"
   ]
  },
  {
   "cell_type": "markdown",
   "id": "e74804e7",
   "metadata": {},
   "source": [
    "### Importing NLTK"
   ]
  },
  {
   "cell_type": "code",
   "execution_count": null,
   "id": "691d606b",
   "metadata": {},
   "outputs": [],
   "source": [
    "import nltk\n",
    "nltk.download('punkt')"
   ]
  },
  {
   "cell_type": "code",
   "execution_count": null,
   "id": "5269e646",
   "metadata": {},
   "outputs": [],
   "source": [
    "words = str(df3.tweet_text)"
   ]
  },
  {
   "cell_type": "code",
   "execution_count": null,
   "id": "220046b0",
   "metadata": {},
   "outputs": [],
   "source": [
    "words"
   ]
  },
  {
   "cell_type": "code",
   "execution_count": null,
   "id": "3da6fadd",
   "metadata": {},
   "outputs": [],
   "source": [
    "txt = nltk.word_tokenize(words)"
   ]
  },
  {
   "cell_type": "code",
   "execution_count": null,
   "id": "c102d2b8",
   "metadata": {},
   "outputs": [],
   "source": [
    "txt"
   ]
  },
  {
   "cell_type": "code",
   "execution_count": null,
   "id": "cd36ded7",
   "metadata": {},
   "outputs": [],
   "source": [
    "df3['tweet_text'] = df3['tweet_text'].astype('string')"
   ]
  },
  {
   "cell_type": "code",
   "execution_count": null,
   "id": "8d222830",
   "metadata": {},
   "outputs": [],
   "source": [
    "df3.dtypes"
   ]
  },
  {
   "cell_type": "code",
   "execution_count": null,
   "id": "5059c832",
   "metadata": {},
   "outputs": [],
   "source": [
    "nltk.download('averaged_perceptron_tagger')\n",
    "pos_tags = nltk.pos_tag(txt)\n",
    "pos_tags"
   ]
  },
  {
   "cell_type": "markdown",
   "id": "e3c2a7aa",
   "metadata": {},
   "source": [
    "### ne_chunk"
   ]
  },
  {
   "cell_type": "markdown",
   "id": "0b6e7b94",
   "metadata": {},
   "source": [
    "When we say binary is True"
   ]
  },
  {
   "cell_type": "code",
   "execution_count": null,
   "id": "4f19cdb2",
   "metadata": {},
   "outputs": [],
   "source": [
    "nltk.download('maxent_ne_chunker')\n",
    "nltk.download('words')\n",
    "chunks = nltk.ne_chunk(pos_tags, binary = True) #either NE or nor NE\n",
    "for chunk in chunks:\n",
    "    print(chunk)"
   ]
  },
  {
   "cell_type": "code",
   "execution_count": null,
   "id": "53bbf71e",
   "metadata": {},
   "outputs": [],
   "source": [
    "label6 = []"
   ]
  },
  {
   "cell_type": "code",
   "execution_count": null,
   "id": "ef8c5e96",
   "metadata": {},
   "outputs": [],
   "source": [
    "entities6 = []"
   ]
  },
  {
   "cell_type": "code",
   "execution_count": null,
   "id": "1af1346c",
   "metadata": {},
   "outputs": [],
   "source": [
    "for chunk in chunks:\n",
    "    if hasattr(chunk,'label'):\n",
    "        entities6.append(chunk[0])\n",
    "        label6.append(chunk.label())"
   ]
  },
  {
   "cell_type": "code",
   "execution_count": null,
   "id": "d23216fd",
   "metadata": {},
   "outputs": [],
   "source": [
    "entities6"
   ]
  },
  {
   "cell_type": "code",
   "execution_count": null,
   "id": "d8838401",
   "metadata": {},
   "outputs": [],
   "source": [
    "label6"
   ]
  },
  {
   "cell_type": "code",
   "execution_count": null,
   "id": "02a3cce1",
   "metadata": {},
   "outputs": [],
   "source": [
    "entities_label4 = list(set(zip(entities6,label6)))"
   ]
  },
  {
   "cell_type": "code",
   "execution_count": null,
   "id": "e221b109",
   "metadata": {},
   "outputs": [],
   "source": [
    "entities_label4"
   ]
  },
  {
   "cell_type": "code",
   "execution_count": null,
   "id": "810b808b",
   "metadata": {},
   "outputs": [],
   "source": [
    "df_1 = pd.DataFrame(entities_label4)\n",
    "df_1.columns = ['Entities','Label']"
   ]
  },
  {
   "cell_type": "code",
   "execution_count": null,
   "id": "3224801e",
   "metadata": {},
   "outputs": [],
   "source": [
    "df_1"
   ]
  },
  {
   "cell_type": "markdown",
   "id": "5b966c3d",
   "metadata": {},
   "source": [
    "#### calculating frequencies of named entities"
   ]
  },
  {
   "cell_type": "code",
   "execution_count": null,
   "id": "b723b766",
   "metadata": {},
   "outputs": [],
   "source": [
    "# frequency of ('AcalabrutinibVenetoclax', 'NNP')\n",
    "count = 0\n",
    "for chunk in pos_tags:\n",
    "    if chunk == ('AcalabrutinibVenetoclax', 'NNP'):\n",
    "        count = count+1\n",
    "        \n",
    "print(count)"
   ]
  },
  {
   "cell_type": "code",
   "execution_count": null,
   "id": "99b057ea",
   "metadata": {},
   "outputs": [],
   "source": [
    "# frequency of ('Calquence', 'NNP')\n",
    "count = 0\n",
    "for chunk in pos_tags:\n",
    "    if chunk == ('Calquence', 'NNP'):\n",
    "        count = count+1\n",
    "        \n",
    "print(count)"
   ]
  },
  {
   "cell_type": "code",
   "execution_count": null,
   "id": "e709d5f9",
   "metadata": {},
   "outputs": [],
   "source": [
    "# frequency of (CLL, NNP)\n",
    "count = 0\n",
    "for chunk in pos_tags:\n",
    "    if chunk == ('CLL', 'NNP'):\n",
    "        count = count+1\n",
    "        \n",
    "print(count)"
   ]
  },
  {
   "cell_type": "code",
   "execution_count": null,
   "id": "a5c42c69",
   "metadata": {},
   "outputs": [],
   "source": [
    "# frequency of ('Length', 'NNP')\n",
    "count = 0\n",
    "for chunk in pos_tags:\n",
    "    if chunk == ('Length', 'NNP'):\n",
    "        count = count+1\n",
    "        \n",
    "print(count)\n"
   ]
  },
  {
   "cell_type": "code",
   "execution_count": null,
   "id": "d2fafee6",
   "metadata": {},
   "outputs": [],
   "source": [
    "dict_1 = {'(Calquence, NNP)':1,'(AcalabrutinibVenetoclax, NNP)':1,'(CLL, NNP)':4,'(Length, NNP)':1}"
   ]
  },
  {
   "cell_type": "code",
   "execution_count": null,
   "id": "f4f5a7c8",
   "metadata": {},
   "outputs": [],
   "source": [
    "val = dict_1.values()\n",
    "key = dict_1.keys()"
   ]
  },
  {
   "cell_type": "code",
   "execution_count": null,
   "id": "27b0a026",
   "metadata": {},
   "outputs": [],
   "source": [
    "li = list(zip(key,val))\n",
    "data_frame1 = pd.DataFrame(li)\n",
    "data_frame1.columns = ['Entities','Frequency']"
   ]
  },
  {
   "cell_type": "code",
   "execution_count": null,
   "id": "c3469623",
   "metadata": {},
   "outputs": [],
   "source": [
    "data_frame1['Label'] = df_1['Label']"
   ]
  },
  {
   "cell_type": "code",
   "execution_count": null,
   "id": "4322b7df",
   "metadata": {},
   "outputs": [],
   "source": [
    "final_df = pd.merge(df_1,data_frame1,how='right',on='Entities')"
   ]
  },
  {
   "cell_type": "code",
   "execution_count": null,
   "id": "e45b7ca9",
   "metadata": {
    "scrolled": true
   },
   "outputs": [],
   "source": [
    "final_df.drop('Label_x',axis='columns',inplace=True)"
   ]
  },
  {
   "cell_type": "code",
   "execution_count": null,
   "id": "35653f0a",
   "metadata": {},
   "outputs": [],
   "source": [
    "final_df #This our dataframe with named entities and their frequencies"
   ]
  },
  {
   "cell_type": "markdown",
   "id": "bba8a7ad",
   "metadata": {},
   "source": [
    "When we say binary is False"
   ]
  },
  {
   "cell_type": "code",
   "execution_count": null,
   "id": "64e7fec4",
   "metadata": {},
   "outputs": [],
   "source": [
    "chunks1 = nltk.ne_chunk(pos_tags, binary = False) \n",
    "for chunk in chunks1:\n",
    "    print(chunk)\n",
    "    "
   ]
  },
  {
   "cell_type": "code",
   "execution_count": null,
   "id": "a87622d9",
   "metadata": {},
   "outputs": [],
   "source": [
    "el = []\n",
    "l = []"
   ]
  },
  {
   "cell_type": "code",
   "execution_count": null,
   "id": "337b55a5",
   "metadata": {},
   "outputs": [],
   "source": [
    "for chunk in chunks1:\n",
    "    if hasattr(chunk,'label'):\n",
    "        el.append(chunk[0])\n",
    "        l.append(chunk.label())"
   ]
  },
  {
   "cell_type": "code",
   "execution_count": null,
   "id": "4937a897",
   "metadata": {},
   "outputs": [],
   "source": [
    "el_l = list(set(zip(el,l)))"
   ]
  },
  {
   "cell_type": "code",
   "execution_count": null,
   "id": "558698c8",
   "metadata": {},
   "outputs": [],
   "source": [
    "df_l = pd.DataFrame(el_l)\n",
    "df_l.columns = ['Entities','Label']"
   ]
  },
  {
   "cell_type": "code",
   "execution_count": null,
   "id": "e99375f2",
   "metadata": {},
   "outputs": [],
   "source": [
    "df_l"
   ]
  },
  {
   "cell_type": "markdown",
   "id": "8a14d641",
   "metadata": {},
   "source": [
    "### Let's download our required csv files = final_df(named entities and frequency) and df3(sentiment polarity)"
   ]
  },
  {
   "cell_type": "code",
   "execution_count": null,
   "id": "7981885e",
   "metadata": {},
   "outputs": [],
   "source": [
    "final_df.to_csv(\"C:\\\\Users\\\\rohit\\\\OneDrive\\\\Desktop\\\\objective1.csv\");"
   ]
  },
  {
   "cell_type": "code",
   "execution_count": null,
   "id": "53799125",
   "metadata": {},
   "outputs": [],
   "source": [
    "df3.to_csv(\"C:\\\\Users\\\\rohit\\\\OneDrive\\\\Desktop\\\\objective3.csv\")"
   ]
  },
  {
   "cell_type": "code",
   "execution_count": null,
   "id": "384a8bc3",
   "metadata": {},
   "outputs": [],
   "source": [
    "df3.drop('index',axis='columns',inplace=True)"
   ]
  },
  {
   "cell_type": "code",
   "execution_count": null,
   "id": "7515a0eb",
   "metadata": {},
   "outputs": [],
   "source": [
    "df3.to_csv(\"C:\\\\Users\\\\rohit\\\\OneDrive\\\\Desktop\\\\objective4.csv\")"
   ]
  },
  {
   "cell_type": "code",
   "execution_count": 35,
   "id": "3398b8d2",
   "metadata": {},
   "outputs": [
    {
     "data": {
      "text/html": [
       "<div>\n",
       "<style scoped>\n",
       "    .dataframe tbody tr th:only-of-type {\n",
       "        vertical-align: middle;\n",
       "    }\n",
       "\n",
       "    .dataframe tbody tr th {\n",
       "        vertical-align: top;\n",
       "    }\n",
       "\n",
       "    .dataframe thead th {\n",
       "        text-align: right;\n",
       "    }\n",
       "</style>\n",
       "<table border=\"1\" class=\"dataframe\">\n",
       "  <thead>\n",
       "    <tr style=\"text-align: right;\">\n",
       "      <th></th>\n",
       "      <th>index</th>\n",
       "      <th>tweet_id</th>\n",
       "      <th>tweet_author</th>\n",
       "      <th>tweet_text</th>\n",
       "    </tr>\n",
       "  </thead>\n",
       "  <tbody>\n",
       "    <tr>\n",
       "      <th>0</th>\n",
       "      <td>0</td>\n",
       "      <td>1374140386071961602</td>\n",
       "      <td>Hematopoiesis News</td>\n",
       "      <td>Scientists conducted a Phase II study of acal...</td>\n",
       "    </tr>\n",
       "    <tr>\n",
       "      <th>1</th>\n",
       "      <td>1</td>\n",
       "      <td>1374032432173842437</td>\n",
       "      <td>Michael Wang MD</td>\n",
       "      <td>This phase 2 AcalabrutinibVenetoclax AV trial ...</td>\n",
       "    </tr>\n",
       "    <tr>\n",
       "      <th>2</th>\n",
       "      <td>2</td>\n",
       "      <td>1373902876553048065</td>\n",
       "      <td>1stOncology</td>\n",
       "      <td>NICE backs AstraZenecas Calquence for CLL http...</td>\n",
       "    </tr>\n",
       "    <tr>\n",
       "      <th>3</th>\n",
       "      <td>3</td>\n",
       "      <td>1373656782367813635</td>\n",
       "      <td>Toby Eyre</td>\n",
       "      <td>acalabrutinib is a valuable option in pts into...</td>\n",
       "    </tr>\n",
       "    <tr>\n",
       "      <th>4</th>\n",
       "      <td>4</td>\n",
       "      <td>1372941634334232586</td>\n",
       "      <td>Lymphoma Hub</td>\n",
       "      <td>NICE has recommended the use of acalabrutinib ...</td>\n",
       "    </tr>\n",
       "    <tr>\n",
       "      <th>...</th>\n",
       "      <td>...</td>\n",
       "      <td>...</td>\n",
       "      <td>...</td>\n",
       "      <td>...</td>\n",
       "    </tr>\n",
       "    <tr>\n",
       "      <th>43342</th>\n",
       "      <td>43342</td>\n",
       "      <td>551103473643945985</td>\n",
       "      <td>Joy is a Lifestyle</td>\n",
       "      <td>Hanging out with Friends  FF CLL Happiness htt...</td>\n",
       "    </tr>\n",
       "    <tr>\n",
       "      <th>43343</th>\n",
       "      <td>43343</td>\n",
       "      <td>551102786675290112</td>\n",
       "      <td>𝓒𝓻𝓲𝔃𝔃𝔂 𝓟𝓮𝓻𝓻𝔂</td>\n",
       "      <td>Hanging out with Friends  FF CLL Happiness htt...</td>\n",
       "    </tr>\n",
       "    <tr>\n",
       "      <th>43344</th>\n",
       "      <td>43344</td>\n",
       "      <td>550969541186953217</td>\n",
       "      <td>IQWiG</td>\n",
       "      <td>Zusatznutzen von Idelalisib ist weder für CLL ...</td>\n",
       "    </tr>\n",
       "    <tr>\n",
       "      <th>43345</th>\n",
       "      <td>43345</td>\n",
       "      <td>550941480525635584</td>\n",
       "      <td>Medibooks</td>\n",
       "      <td>Hematología PTK2 EXPRESSION AND IMMUNOCHEMOTHE...</td>\n",
       "    </tr>\n",
       "    <tr>\n",
       "      <th>43346</th>\n",
       "      <td>43346</td>\n",
       "      <td>550579446537678849</td>\n",
       "      <td>Medibooks</td>\n",
       "      <td>Hematología MUTATIONS IN TLRMYD88 PATHWAY IDEN...</td>\n",
       "    </tr>\n",
       "  </tbody>\n",
       "</table>\n",
       "<p>43347 rows × 4 columns</p>\n",
       "</div>"
      ],
      "text/plain": [
       "       index             tweet_id        tweet_author  \\\n",
       "0          0  1374140386071961602  Hematopoiesis News   \n",
       "1          1  1374032432173842437     Michael Wang MD   \n",
       "2          2  1373902876553048065         1stOncology   \n",
       "3          3  1373656782367813635           Toby Eyre   \n",
       "4          4  1372941634334232586        Lymphoma Hub   \n",
       "...      ...                  ...                 ...   \n",
       "43342  43342   551103473643945985  Joy is a Lifestyle   \n",
       "43343  43343   551102786675290112        𝓒𝓻𝓲𝔃𝔃𝔂 𝓟𝓮𝓻𝓻𝔂   \n",
       "43344  43344   550969541186953217               IQWiG   \n",
       "43345  43345   550941480525635584           Medibooks   \n",
       "43346  43346   550579446537678849           Medibooks   \n",
       "\n",
       "                                              tweet_text  \n",
       "0       Scientists conducted a Phase II study of acal...  \n",
       "1      This phase 2 AcalabrutinibVenetoclax AV trial ...  \n",
       "2      NICE backs AstraZenecas Calquence for CLL http...  \n",
       "3      acalabrutinib is a valuable option in pts into...  \n",
       "4      NICE has recommended the use of acalabrutinib ...  \n",
       "...                                                  ...  \n",
       "43342  Hanging out with Friends  FF CLL Happiness htt...  \n",
       "43343  Hanging out with Friends  FF CLL Happiness htt...  \n",
       "43344  Zusatznutzen von Idelalisib ist weder für CLL ...  \n",
       "43345  Hematología PTK2 EXPRESSION AND IMMUNOCHEMOTHE...  \n",
       "43346  Hematología MUTATIONS IN TLRMYD88 PATHWAY IDEN...  \n",
       "\n",
       "[43347 rows x 4 columns]"
      ]
     },
     "execution_count": 35,
     "metadata": {},
     "output_type": "execute_result"
    }
   ],
   "source": [
    "df3"
   ]
  },
  {
   "cell_type": "code",
   "execution_count": null,
   "id": "1ab6c8e7",
   "metadata": {},
   "outputs": [],
   "source": []
  }
 ],
 "metadata": {
  "kernelspec": {
   "display_name": "Python 3 (ipykernel)",
   "language": "python",
   "name": "python3"
  },
  "language_info": {
   "codemirror_mode": {
    "name": "ipython",
    "version": 3
   },
   "file_extension": ".py",
   "mimetype": "text/x-python",
   "name": "python",
   "nbconvert_exporter": "python",
   "pygments_lexer": "ipython3",
   "version": "3.9.7"
  }
 },
 "nbformat": 4,
 "nbformat_minor": 5
}
